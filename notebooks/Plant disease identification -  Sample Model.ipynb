{
 "cells": [
  {
   "cell_type": "code",
   "execution_count": 0,
   "metadata": {
    "_cell_guid": "b1076dfc-b9ad-4769-8c92-a6c4dae69d19",
    "_uuid": "8f2839f25d086af736a60e9eeb907d3b93b6e0e5",
    "colab": {},
    "colab_type": "code",
    "id": "svryj4UOmeK5"
   },
   "outputs": [],
   "source": [
    "import numpy as np # linear algebra\n",
    "import pandas as pd # data processing, CSV file I/O (e.g. pd.read_csv)\n",
    "import os\n",
    "import matplotlib.pyplot as plt\n",
    "import seaborn as sns\n",
    "import keras\n",
    "import cv2\n",
    "import glob"
   ]
  },
  {
   "cell_type": "code",
   "execution_count": 0,
   "metadata": {
    "colab": {},
    "colab_type": "code",
    "id": "EizKKuOQmeLU"
   },
   "outputs": [],
   "source": [
    "glob.glob('../input/plantdisease/plantvillage/PlantVillage/Pepper__bell___Bacterial_spot/00f2e69a-1e56-412d-8a79-fdce794a17e4___JR_B.Spot 3132.JPG')"
   ]
  },
  {
   "cell_type": "code",
   "execution_count": 0,
   "metadata": {
    "_cell_guid": "79c7e3d0-c299-4dcb-8224-4455121ee9b0",
    "_uuid": "d629ff2d2480ee46fbb7e2d37f6b5fab8052498a",
    "colab": {},
    "colab_type": "code",
    "id": "VbZH0_KTmeLd"
   },
   "outputs": [],
   "source": [
    "img=plt.imread('../input/plantdisease/plantvillage/PlantVillage/Pepper__bell___Bacterial_spot/00f2e69a-1e56-412d-8a79-fdce794a17e4___JR_B.Spot 3132.JPG')\n",
    "plt.imshow(img)"
   ]
  },
  {
   "cell_type": "code",
   "execution_count": 0,
   "metadata": {
    "colab": {},
    "colab_type": "code",
    "id": "YfukO5i8meLl"
   },
   "outputs": [],
   "source": [
    "import re\n",
    "for i in glob.glob('../input/plantdisease/plantvillage/PlantVillage/*'):\n",
    "    print(re.split('/',i)[5])"
   ]
  },
  {
   "cell_type": "code",
   "execution_count": 0,
   "metadata": {
    "colab": {},
    "colab_type": "code",
    "id": "IxUOminOmeL4"
   },
   "outputs": [],
   "source": [
    "np.array(glob.glob('../input/plantdisease/plantvillage/PlantVillage/*/*JPG')).shape"
   ]
  },
  {
   "cell_type": "code",
   "execution_count": 0,
   "metadata": {
    "colab": {},
    "colab_type": "code",
    "id": "r4R4v20GmeL_"
   },
   "outputs": [],
   "source": [
    "from PIL import Image\n",
    "image_data=[]\n",
    "label_data=[]\n",
    "for i in glob.glob('../input/plantdisease/plantvillage/PlantVillage/*/*JPG'):\n",
    "    img=cv2.imread(i)\n",
    "    image_to_array=Image.fromarray(img,\"RGB\")\n",
    "    size_image=image_to_array.resize((250,250))\n",
    "    image_data.append(np.array(size_image))\n",
    "    label_data.append(re.split('/',i)[5])"
   ]
  },
  {
   "cell_type": "code",
   "execution_count": 0,
   "metadata": {
    "colab": {},
    "colab_type": "code",
    "id": "mZ7LzApVmeMQ"
   },
   "outputs": [],
   "source": [
    "image_data=np.array(image_data)\n",
    "label_data=np.array(label_data)"
   ]
  },
  {
   "cell_type": "code",
   "execution_count": 0,
   "metadata": {
    "colab": {},
    "colab_type": "code",
    "id": "Cow63wIOmeMW"
   },
   "outputs": [],
   "source": [
    "image_data.shape"
   ]
  },
  {
   "cell_type": "code",
   "execution_count": 0,
   "metadata": {
    "colab": {},
    "colab_type": "code",
    "id": "DLE-W_someMb"
   },
   "outputs": [],
   "source": [
    "label_data.shape"
   ]
  },
  {
   "cell_type": "code",
   "execution_count": 0,
   "metadata": {
    "colab": {},
    "colab_type": "code",
    "id": "J5O3TSSFmeMk"
   },
   "outputs": [],
   "source": [
    "label_data[:5]"
   ]
  },
  {
   "cell_type": "code",
   "execution_count": 0,
   "metadata": {
    "colab": {},
    "colab_type": "code",
    "id": "KkvMMIkOmeNJ"
   },
   "outputs": [],
   "source": [
    "plt.imshow(image_data[1])"
   ]
  },
  {
   "cell_type": "code",
   "execution_count": 0,
   "metadata": {
    "colab": {},
    "colab_type": "code",
    "id": "_mJ0xv-MmeNQ"
   },
   "outputs": [],
   "source": [
    "label_data=pd.DataFrame(label_data)\n",
    "label_data[0].value_counts()"
   ]
  },
  {
   "cell_type": "code",
   "execution_count": 0,
   "metadata": {
    "colab": {},
    "colab_type": "code",
    "id": "vVsd2ueLmeNf"
   },
   "outputs": [],
   "source": [
    "index=label_data[label_data[0]=='Potato___healthy'].index\n",
    "image_data[index].shape"
   ]
  },
  {
   "cell_type": "code",
   "execution_count": 0,
   "metadata": {
    "colab": {},
    "colab_type": "code",
    "id": "Ce7BQXrWmeNt"
   },
   "outputs": [],
   "source": [
    "Potato___healthy=image_data[index]"
   ]
  },
  {
   "cell_type": "code",
   "execution_count": 0,
   "metadata": {
    "colab": {},
    "colab_type": "code",
    "id": "FTWMkEwmmeN0"
   },
   "outputs": [],
   "source": [
    "from keras.preprocessing.image import ImageDataGenerator\n",
    "ImageDataGenerator(Potato___healthy)"
   ]
  },
  {
   "cell_type": "code",
   "execution_count": 0,
   "metadata": {
    "colab": {},
    "colab_type": "code",
    "id": "IcmzOvdnmeN6"
   },
   "outputs": [],
   "source": []
  },
  {
   "cell_type": "code",
   "execution_count": 0,
   "metadata": {
    "colab": {},
    "colab_type": "code",
    "id": "Uv2-2vFfmeN_"
   },
   "outputs": [],
   "source": [
    "index=label_data[label_data[0]=='Tomato__Tomato_mosaic_virus'].index\n",
    "image_data[index].shape"
   ]
  },
  {
   "cell_type": "code",
   "execution_count": 0,
   "metadata": {
    "colab": {},
    "colab_type": "code",
    "id": "jsWYexermeOG"
   },
   "outputs": [],
   "source": [
    "Tomato__Tomato_mosaic_virus=image_data[index]"
   ]
  },
  {
   "cell_type": "code",
   "execution_count": 0,
   "metadata": {
    "colab": {},
    "colab_type": "code",
    "id": "I1U_UcO1meOL"
   },
   "outputs": [],
   "source": [
    "label_data[0][0][:6]"
   ]
  },
  {
   "cell_type": "code",
   "execution_count": 0,
   "metadata": {
    "colab": {},
    "colab_type": "code",
    "id": "mi9OLiwKmeOS"
   },
   "outputs": [],
   "source": [
    "Labels=[]\n",
    "for i in label_data[0]:\n",
    "    Labels.append(i[:6])"
   ]
  },
  {
   "cell_type": "code",
   "execution_count": 0,
   "metadata": {
    "colab": {},
    "colab_type": "code",
    "id": "UpptGizcmeOa"
   },
   "outputs": [],
   "source": [
    "Labels=pd.get_dummies(Labels)"
   ]
  },
  {
   "cell_type": "code",
   "execution_count": 0,
   "metadata": {
    "colab": {},
    "colab_type": "code",
    "id": "xup8ROHdmeOg"
   },
   "outputs": [],
   "source": [
    "from sklearn.model_selection import train_test_split\n",
    "xtr,xte,ytr,yte=train_test_split(image_data,Labels)"
   ]
  },
  {
   "cell_type": "code",
   "execution_count": 0,
   "metadata": {
    "colab": {},
    "colab_type": "code",
    "id": "c2PzMe4WmeOp"
   },
   "outputs": [],
   "source": [
    "xtr.shape"
   ]
  },
  {
   "cell_type": "code",
   "execution_count": 0,
   "metadata": {
    "colab": {},
    "colab_type": "code",
    "id": "65DQKWbRmeOu"
   },
   "outputs": [],
   "source": [
    "from keras.layers import Conv2D, Dense, MaxPool2D, Flatten, Dropout,Conv3D\n",
    "from keras.models import Sequential\n",
    "model=Sequential()\n",
    "model.add(Dense(3,activation='relu',input_shape=(250,250,3)))\n",
    "model.add(Conv2D(10,kernel_size=(3,3),activation='relu'))\n",
    "model.add(MaxPool2D(1))\n",
    "model.add(Conv2D(10,kernel_size=(3,3),activation='relu'))\n",
    "model.add(Dropout(0.5))\n",
    "model.add(Conv2D(10,kernel_size=(3,3),activation='relu'))\n",
    "model.add(MaxPool2D(1))\n",
    "model.add(Conv2D(10,kernel_size=(3,3),activation='relu'))\n",
    "#model.add(Flatten())\n",
    "#model.add(Dense(3,activation='softmax'))\n",
    "model.summary()"
   ]
  },
  {
   "cell_type": "code",
   "execution_count": 0,
   "metadata": {
    "colab": {},
    "colab_type": "code",
    "id": "2VSDrnhcmeOz"
   },
   "outputs": [],
   "source": [
    "model.compile(optimizer='adam',loss='categorical_crossentropy',metrics=['accuracy'])"
   ]
  },
  {
   "cell_type": "code",
   "execution_count": 0,
   "metadata": {
    "colab": {},
    "colab_type": "code",
    "id": "JYZmdVUBmeO7"
   },
   "outputs": [],
   "source": [
    "model.fit(xtr,ytr,epochs=10)"
   ]
  },
  {
   "cell_type": "code",
   "execution_count": 0,
   "metadata": {
    "colab": {},
    "colab_type": "code",
    "id": "X26G9NlWmePA"
   },
   "outputs": [],
   "source": []
  },
  {
   "cell_type": "code",
   "execution_count": 0,
   "metadata": {
    "colab": {},
    "colab_type": "code",
    "id": "bsMrF0Y1mePE"
   },
   "outputs": [],
   "source": [
    "model.predict(xtr[1].)"
   ]
  },
  {
   "cell_type": "code",
   "execution_count": 0,
   "metadata": {
    "colab": {},
    "colab_type": "code",
    "id": "OTJXcy4xmePJ"
   },
   "outputs": [],
   "source": []
  }
 ],
 "metadata": {
  "colab": {
   "name": "Plant disease identification -  Sample Model.ipynb",
   "provenance": [],
   "version": "0.3.2"
  },
  "kernelspec": {
   "display_name": "Python 3",
   "language": "python",
   "name": "python3"
  },
  "language_info": {
   "codemirror_mode": {
    "name": "ipython",
    "version": 3
   },
   "file_extension": ".py",
   "mimetype": "text/x-python",
   "name": "python",
   "nbconvert_exporter": "python",
   "pygments_lexer": "ipython3",
   "version": "3.7.3"
  },
  "toc": {
   "base_numbering": 1,
   "nav_menu": {},
   "number_sections": true,
   "sideBar": true,
   "skip_h1_title": false,
   "title_cell": "Table of Contents",
   "title_sidebar": "Contents",
   "toc_cell": false,
   "toc_position": {},
   "toc_section_display": true,
   "toc_window_display": false
  }
 },
 "nbformat": 4,
 "nbformat_minor": 1
}
